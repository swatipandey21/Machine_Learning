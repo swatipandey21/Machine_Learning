{
 "cells": [
  {
   "cell_type": "code",
   "execution_count": 1,
   "metadata": {},
   "outputs": [],
   "source": [
    "import pandas as pd"
   ]
  },
  {
   "cell_type": "code",
   "execution_count": 2,
   "metadata": {},
   "outputs": [],
   "source": [
    "mydata=pd.read_csv(r\"Desktop\\forestfires.csv\")"
   ]
  },
  {
   "cell_type": "code",
   "execution_count": 3,
   "metadata": {},
   "outputs": [
    {
     "data": {
      "text/plain": [
       "Index(['X', 'Y', 'month', 'day', 'FFMC', 'DMC', 'DC', 'ISI', 'temp', 'RH',\n",
       "       'wind', 'rain', 'area'],\n",
       "      dtype='object')"
      ]
     },
     "execution_count": 3,
     "metadata": {},
     "output_type": "execute_result"
    }
   ],
   "source": [
    "mydata.keys()"
   ]
  },
  {
   "cell_type": "code",
   "execution_count": 4,
   "metadata": {},
   "outputs": [
    {
     "data": {
      "text/plain": [
       "(517, 13)"
      ]
     },
     "execution_count": 4,
     "metadata": {},
     "output_type": "execute_result"
    }
   ],
   "source": [
    "mydata.shape"
   ]
  },
  {
   "cell_type": "code",
   "execution_count": 5,
   "metadata": {},
   "outputs": [
    {
     "data": {
      "text/plain": [
       "array([[7, 5, 'mar', ..., 6.7, 0.0, 0.0],\n",
       "       [7, 4, 'oct', ..., 0.9, 0.0, 0.0],\n",
       "       [7, 4, 'oct', ..., 1.3, 0.0, 0.0],\n",
       "       ...,\n",
       "       [7, 4, 'aug', ..., 6.7, 0.0, 11.16],\n",
       "       [1, 4, 'aug', ..., 4.0, 0.0, 0.0],\n",
       "       [6, 3, 'nov', ..., 4.5, 0.0, 0.0]], dtype=object)"
      ]
     },
     "execution_count": 5,
     "metadata": {},
     "output_type": "execute_result"
    }
   ],
   "source": [
    "mydata.values"
   ]
  },
  {
   "cell_type": "code",
   "execution_count": 6,
   "metadata": {},
   "outputs": [],
   "source": [
    "x_input=mydata.drop([\"day\",\"month\"],axis=1)"
   ]
  },
  {
   "cell_type": "code",
   "execution_count": 7,
   "metadata": {},
   "outputs": [],
   "source": [
    "y_target=mydata[\"day\"]"
   ]
  },
  {
   "cell_type": "code",
   "execution_count": 8,
   "metadata": {},
   "outputs": [
    {
     "data": {
      "text/plain": [
       "0      fri\n",
       "1      tue\n",
       "2      sat\n",
       "3      fri\n",
       "4      sun\n",
       "5      sun\n",
       "6      mon\n",
       "7      mon\n",
       "8      tue\n",
       "9      sat\n",
       "10     sat\n",
       "11     sat\n",
       "12     fri\n",
       "13     mon\n",
       "14     wed\n",
       "15     fri\n",
       "16     sat\n",
       "17     mon\n",
       "18     wed\n",
       "19     sat\n",
       "20     tue\n",
       "21     mon\n",
       "22     sun\n",
       "23     sat\n",
       "24     sat\n",
       "25     sun\n",
       "26     fri\n",
       "27     mon\n",
       "28     sat\n",
       "29     sun\n",
       "      ... \n",
       "487    tue\n",
       "488    tue\n",
       "489    wed\n",
       "490    wed\n",
       "491    thu\n",
       "492    fri\n",
       "493    fri\n",
       "494    sat\n",
       "495    mon\n",
       "496    mon\n",
       "497    tue\n",
       "498    tue\n",
       "499    tue\n",
       "500    tue\n",
       "501    tue\n",
       "502    tue\n",
       "503    wed\n",
       "504    wed\n",
       "505    thu\n",
       "506    fri\n",
       "507    fri\n",
       "508    fri\n",
       "509    fri\n",
       "510    fri\n",
       "511    sun\n",
       "512    sun\n",
       "513    sun\n",
       "514    sun\n",
       "515    sat\n",
       "516    tue\n",
       "Name: day, Length: 517, dtype: object"
      ]
     },
     "execution_count": 8,
     "metadata": {},
     "output_type": "execute_result"
    }
   ],
   "source": [
    "y_target"
   ]
  },
  {
   "cell_type": "code",
   "execution_count": 9,
   "metadata": {},
   "outputs": [],
   "source": [
    "from sklearn.model_selection import train_test_split"
   ]
  },
  {
   "cell_type": "code",
   "execution_count": 10,
   "metadata": {},
   "outputs": [],
   "source": [
    "x_train,x_test,y_train,y_test=train_test_split(x_input,y_target,test_size=.3,random_state=100)"
   ]
  },
  {
   "cell_type": "code",
   "execution_count": 11,
   "metadata": {},
   "outputs": [],
   "source": [
    "from sklearn.naive_bayes import GaussianNB,MultinomialNB,BernoulliNB\n",
    "from sklearn.neighbors import KNeighborsClassifier"
   ]
  },
  {
   "cell_type": "code",
   "execution_count": 12,
   "metadata": {},
   "outputs": [],
   "source": [
    "mygaus=GaussianNB()\n",
    "mymul=MultinomialNB()\n",
    "myber=BernoulliNB()\n",
    "myknn=KNeighborsClassifier()"
   ]
  },
  {
   "cell_type": "code",
   "execution_count": 13,
   "metadata": {},
   "outputs": [],
   "source": [
    "mygausmodel=mygaus.fit(x_train,y_train)\n",
    "mymulmodel=mymul.fit(x_train,y_train)\n",
    "mybermodel=myber.fit(x_train,y_train)\n",
    "myknnmodel=myknn.fit(x_train,y_train)"
   ]
  },
  {
   "cell_type": "code",
   "execution_count": 14,
   "metadata": {},
   "outputs": [],
   "source": [
    "Ypgaus=mygausmodel.predict(x_test)\n",
    "Ypmul=mymulmodel.predict(x_test)\n",
    "Ypber=mybermodel.predict(x_test)\n",
    "Ypknn=myknnmodel.predict(x_test)"
   ]
  },
  {
   "cell_type": "code",
   "execution_count": 15,
   "metadata": {},
   "outputs": [],
   "source": [
    "from sklearn import metrics"
   ]
  },
  {
   "cell_type": "code",
   "execution_count": 16,
   "metadata": {},
   "outputs": [],
   "source": [
    "acc_gaus=metrics.accuracy_score(y_test,Ypgaus)\n",
    "acc_mul=metrics.accuracy_score(y_test,Ypmul)\n",
    "acc_ber=metrics.accuracy_score(y_test,Ypber)\n",
    "acc_knn=metrics.accuracy_score(y_test,Ypknn)\n"
   ]
  },
  {
   "cell_type": "code",
   "execution_count": 17,
   "metadata": {},
   "outputs": [
    {
     "name": "stdout",
     "output_type": "stream",
     "text": [
      "Accuracy of gaussian is 0.16025641025641027 Accuracy of multinomial is 0.16666666666666666 Accuracy of bernoulli is 0.1858974358974359 Accuracy of knn is 0.27564102564102566\n"
     ]
    }
   ],
   "source": [
    "print(\"Accuracy of gaussian is {} Accuracy of multinomial is {} Accuracy of bernoulli is {} Accuracy of knn is {}\".format(acc_gaus,acc_mul,acc_ber,acc_knn))"
   ]
  },
  {
   "cell_type": "code",
   "execution_count": null,
   "metadata": {},
   "outputs": [],
   "source": []
  }
 ],
 "metadata": {
  "kernelspec": {
   "display_name": "Python 3",
   "language": "python",
   "name": "python3"
  },
  "language_info": {
   "codemirror_mode": {
    "name": "ipython",
    "version": 3
   },
   "file_extension": ".py",
   "mimetype": "text/x-python",
   "name": "python",
   "nbconvert_exporter": "python",
   "pygments_lexer": "ipython3",
   "version": "3.6.5"
  }
 },
 "nbformat": 4,
 "nbformat_minor": 2
}
